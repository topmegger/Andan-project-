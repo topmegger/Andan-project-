{
  "nbformat": 4,
  "nbformat_minor": 0,
  "metadata": {
    "colab": {
      "provenance": []
    },
    "kernelspec": {
      "name": "python3",
      "display_name": "Python 3"
    },
    "language_info": {
      "name": "python"
    }
  },
  "cells": [
    {
      "cell_type": "code",
      "execution_count": null,
      "metadata": {
        "id": "934se1fMiuDr"
      },
      "outputs": [],
      "source": [
        "filee = pd.read_csv(\"Binance_BTCUSDT_d.csv\", skiprows=1)\n",
        "df = filee.loc[:, [\"Date\", \"Close\"]]\n",
        "df[\"Date\"] = pd.to_datetime(filee[\"Date\"])\n",
        "df.set_index(\"Date\", inplace=True)\n",
        "df.to_csv(\"crypto_prices_XRP.csv\")"
      ]
    },
    {
      "cell_type": "code",
      "source": [
        "filee = pd.read_csv(\"Binance_ETHUSDT_d.csv\", skiprows=1)\n",
        "df = filee.loc[:, [\"Date\", \"Close\"]]\n",
        "df[\"Date\"] = pd.to_datetime(filee[\"Date\"])\n",
        "df.set_index(\"Date\", inplace=True)\n",
        "df.to_csv(\"crypto_prices_XRP.csv\")"
      ],
      "metadata": {
        "id": "WRsHKHUBiyhu"
      },
      "execution_count": null,
      "outputs": []
    },
    {
      "cell_type": "code",
      "source": [
        "filee = pd.read_csv(\"Binance_XRPUSDT_d.csv\", skiprows=1)\n",
        "df = filee.loc[:, [\"Date\", \"Close\"]]\n",
        "df[\"Date\"] = pd.to_datetime(filee[\"Date\"])\n",
        "df.set_index(\"Date\", inplace=True)\n",
        "df.to_csv(\"crypto_prices_XRP.csv\")"
      ],
      "metadata": {
        "id": "AewqxCBHiy2H"
      },
      "execution_count": null,
      "outputs": []
    },
    {
      "cell_type": "code",
      "source": [
        "filee = pd.read_csv(\"sp500.csv\", skiprows=1)\n",
        "df = filee.loc[:, [\"Дата\", \"Close\"]]\n",
        "df[\"Дата\"] = pd.to_datetime(filee[\"Дата\"])\n",
        "df.set_index(\"Дата\", inplace=True)\n",
        "df['Откр.'] = (\n",
        "    df['Откр.']\n",
        "    .str.replace(r'[^\\d,]', '', regex=True)\n",
        "    .str.replace('.', '', regex=False)\n",
        "    .str.replace(',', '.', regex=False)\n",
        "    .astype(float)\n",
        "    .astype(int)\n",
        "df.to_csv(\"sp500.csv\")"
      ],
      "metadata": {
        "id": "aYVkPtcVizFO"
      },
      "execution_count": null,
      "outputs": []
    }
  ]
}
